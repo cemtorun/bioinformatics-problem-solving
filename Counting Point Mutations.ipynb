{
 "cells": [
  {
   "cell_type": "code",
   "execution_count": 1,
   "metadata": {},
   "outputs": [
    {
     "data": {
      "text/plain": [
       "490"
      ]
     },
     "execution_count": 1,
     "metadata": {},
     "output_type": "execute_result"
    }
   ],
   "source": [
    "point_mutation_counter = 0\n",
    "\n",
    "# the text file returns two lists\n",
    "with open(\"rosalind_hamm.txt\") as f:\n",
    "    text = f.read().split()\n",
    "    \n",
    "original_sequence = text[0] # the first list will be the original strand\n",
    "mutation_sequence = text[1] # the second strand will be the strand with the point mutations\n",
    "    \n",
    "# loop compares the hamming distance of the two strands of dna\n",
    "for index, nucleotide in enumerate(original_sequence):\n",
    "    if nucleotide != mutation_sequence[index]:\n",
    "        point_mutation_counter += 1\n",
    "\n",
    "point_mutation_counter"
   ]
  }
 ],
 "metadata": {
  "kernelspec": {
   "display_name": "Python 3",
   "language": "python",
   "name": "python3"
  },
  "language_info": {
   "codemirror_mode": {
    "name": "ipython",
    "version": 3
   },
   "file_extension": ".py",
   "mimetype": "text/x-python",
   "name": "python",
   "nbconvert_exporter": "python",
   "pygments_lexer": "ipython3",
   "version": "3.6.5"
  }
 },
 "nbformat": 4,
 "nbformat_minor": 2
}
