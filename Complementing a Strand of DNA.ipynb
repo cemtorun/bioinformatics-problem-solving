{
 "cells": [
  {
   "cell_type": "code",
   "execution_count": 1,
   "metadata": {},
   "outputs": [
    {
     "data": {
      "text/plain": [
       "'GGTTGCGCCTAATCCCCTCGTAGAGATTCCCAAGTCTTAGACAGTTACCGTGACCGCGATATTCGGGACTTAGCCGGCTAGGTTAGTTAAGGCAGCAGTTCATACTTACCCCGACGCAGGAGCATTACACGACAGCCGCTATAGCAGGAGCCTCGACATGCTAGAGCTCCTTGATGTGAATGCGAAGCTAAGCAGTTGGGAACAGGCTGGAAATGGACCGGGGTCCCTCCTGCATTTCGATGGTCCGAGGCAACACGGCGATGCGAGCAATCATTTCACGGAGTAACAGTGCCGCCTATTGCTCCGGCGGTTGTCAAATCTACGTACTAAGTCCTTCATTCGACGGAACTTCTCCAAGTAACATAAAGCATCCCGAGTCACCTTAACTGCATGCCAGGGCTTTTTATCGACGAGGAGTCGGGATTTGCAAAAATGATCACTATGCCTGGTTGGAATATTTACGCCGCCCTCCTACCACCGTGGCAAACTCATAGAGGTATCGAACTGGGCGTACGAGACAGCCAGTTGAGACACTCGGTCAGACCACCCTTGGGGAGGCAAGCGGCCTCGTAATTATATGTCTAACAGACCGGGGTGTCATGACGCTTTGACCCTTCGATTCTCGTCATCCCGCCGCACTACACTACGGCTCAACACGAGCTCTCGATCTATATCGATATAAAATCCGCCAAAGTTCACAGGAGACCACGACTCGTGCCGAGCTAACGAAGTTGCTCCGCGAGCTCGTGTCGACTAGTTAAGGACGAAGGCGAGAACAGACTTATTTGACCGGGATTTATTTCTCTTTTGGGCGAATGTGGTGGGCTACCCACATATTCCGGACTGGTCCGGTCACCGAACCACGAGGAATGTAGGAGGTCCCCGTGCGTTAG'"
      ]
     },
     "execution_count": 1,
     "metadata": {},
     "output_type": "execute_result"
    }
   ],
   "source": [
    "with open(\"rosalind_revc.txt\") as f:\n",
    "    dna_fragment = f.read().rsplit()\n",
    "\n",
    "dna_fragment =  \"\".join(dna_fragment)\n",
    "reversed_fragment_rough = []\n",
    "\n",
    "for nucleotide in dna_fragment:\n",
    "    reversed_fragment_rough.insert(0, nucleotide)\n",
    "    \n",
    "\n",
    "for index, nucleotide in enumerate(reversed_fragment_rough):\n",
    "    if nucleotide == \"A\":\n",
    "        reversed_fragment_rough[index] = \"T\"\n",
    "    if nucleotide == \"T\":\n",
    "        reversed_fragment_rough[index] = \"A\"\n",
    "    if nucleotide == \"C\":\n",
    "        reversed_fragment_rough[index] = \"G\"\n",
    "    if nucleotide == \"G\":\n",
    "        reversed_fragment_rough[index] = \"C\"\n",
    "\n",
    "reversed_fragment = \"\".join(reversed_fragment_rough)\n",
    "\n",
    "reversed_fragment\n",
    "\n",
    "\n",
    "     \n",
    "    "
   ]
  },
  {
   "cell_type": "code",
   "execution_count": null,
   "metadata": {},
   "outputs": [],
   "source": []
  },
  {
   "cell_type": "code",
   "execution_count": null,
   "metadata": {},
   "outputs": [],
   "source": []
  }
 ],
 "metadata": {
  "kernelspec": {
   "display_name": "Python 3",
   "language": "python",
   "name": "python3"
  },
  "language_info": {
   "codemirror_mode": {
    "name": "ipython",
    "version": 3
   },
   "file_extension": ".py",
   "mimetype": "text/x-python",
   "name": "python",
   "nbconvert_exporter": "python",
   "pygments_lexer": "ipython3",
   "version": "3.6.5"
  }
 },
 "nbformat": 4,
 "nbformat_minor": 2
}
