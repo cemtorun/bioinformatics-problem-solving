{
 "cells": [
  {
   "cell_type": "code",
   "execution_count": 12,
   "metadata": {
    "scrolled": true
   },
   "outputs": [
    {
     "data": {
      "text/plain": [
       "['TATCATCTGACTCCAGCGGCGAAATGAGTTACTCGATAACTATGCGCAGTCAAGTTCGAGGCGTAATTGGTCCAAGGCAAGTGCGCATGGCTATGGAAGGTCCAGACTAACTGGCTGTGAGGAAAGTTGCTTATAACCATAGTTGAGGTATGGTAGATACCGTAACCTGAACAACGCGAGGGAGAGCCACAGTATTGGGGTGGTGCTAGCAACTGTCTGTGCGACTTTTCTGGGAAAATGGAGCCATACTGGTAGTGTGCGACTAAATGGATTCCAAACCCTGTGCGAATCTTAAGGCCGCGCGCCAGTCTGGGTTCCTGACTGGTTCCGAAAGGAGAAGTTTGCGTTAAGTCCTGAACGGCTACTAGCTATTGCTCAACGGCGCTGCTTAACACTTACAGATTCAGTAAAATTTTCCAGCGGTGGTTGATGCTGGTTGATGACCCCTCAGACATTCTACGCGCTCAGTCTACAAGCCTCAGATAAAATGTATCTGGATAGTTTATCTCCGCTCCTCGTCTATAAACAAGCTAGGTGCAATTATGTACTGAAAACCTGAATAGTTCAAACGGACGAACTCTTGTGCTTGCGCTCGGAGCTAAGTCAAAGTCTAACACCATTGACGTCTAATCGTCGTGTAGGCCAATGGAGACAGCGATGCAACCGGATAATTACCGCTTTGCTTTGAACTAAGTCACCCGATCGGCACGGCAAAAAGAGTTTTTCTTGACACATGGGCAAAGGTGGAGGGACACAGTGCAGGGCAGCCGGAGAATCGGGGCCGAGCAATAAGAATGAAAGCACTGGGAATATCGCTATGAGTCTCTAGCGGCGACATCTGATGCCTTCGATCAGCAGTGATTTTAATTTCTGGTTAAAAGCAGCTCGTTTCCGAAATAAGTCTCGCTTGCCATTAACTGCCCA']"
      ]
     },
     "execution_count": 12,
     "metadata": {},
     "output_type": "execute_result"
    }
   ],
   "source": [
    "with open(\"rosalind_dna.txt\") as f:\n",
    "    fragment_of_dna = f.read()\n",
    "\n",
    "fragment_of_dna.rsplit()"
   ]
  },
  {
   "cell_type": "code",
   "execution_count": 1,
   "metadata": {},
   "outputs": [
    {
     "ename": "NameError",
     "evalue": "name 'fragment_of_dna' is not defined",
     "output_type": "error",
     "traceback": [
      "\u001b[0;31m---------------------------------------------------------------------------\u001b[0m",
      "\u001b[0;31mNameError\u001b[0m                                 Traceback (most recent call last)",
      "\u001b[0;32m<ipython-input-1-6277055a1c28>\u001b[0m in \u001b[0;36m<module>\u001b[0;34m()\u001b[0m\n\u001b[0;32m----> 1\u001b[0;31m print(fragment_of_dna.count(\"A\"),\n\u001b[0m\u001b[1;32m      2\u001b[0m       \u001b[0mfragment_of_dna\u001b[0m\u001b[0;34m.\u001b[0m\u001b[0mcount\u001b[0m\u001b[0;34m(\u001b[0m\u001b[0;34m\"C\"\u001b[0m\u001b[0;34m)\u001b[0m\u001b[0;34m,\u001b[0m\u001b[0;34m\u001b[0m\u001b[0m\n\u001b[1;32m      3\u001b[0m       \u001b[0mfragment_of_dna\u001b[0m\u001b[0;34m.\u001b[0m\u001b[0mcount\u001b[0m\u001b[0;34m(\u001b[0m\u001b[0;34m\"G\"\u001b[0m\u001b[0;34m)\u001b[0m\u001b[0;34m,\u001b[0m\u001b[0;34m\u001b[0m\u001b[0m\n\u001b[1;32m      4\u001b[0m       fragment_of_dna.count(\"T\"))\n",
      "\u001b[0;31mNameError\u001b[0m: name 'fragment_of_dna' is not defined"
     ]
    }
   ],
   "source": [
    "print(fragment_of_dna.count(\"A\"),\n",
    "      fragment_of_dna.count(\"C\"),\n",
    "      fragment_of_dna.count(\"G\"),\n",
    "      fragment_of_dna.count(\"T\"))"
   ]
  },
  {
   "cell_type": "code",
   "execution_count": null,
   "metadata": {},
   "outputs": [],
   "source": []
  }
 ],
 "metadata": {
  "celltoolbar": "Raw Cell Format",
  "kernelspec": {
   "display_name": "Python 3",
   "language": "python",
   "name": "python3"
  },
  "language_info": {
   "codemirror_mode": {
    "name": "ipython",
    "version": 3
   },
   "file_extension": ".py",
   "mimetype": "text/x-python",
   "name": "python",
   "nbconvert_exporter": "python",
   "pygments_lexer": "ipython3",
   "version": "3.6.5"
  }
 },
 "nbformat": 4,
 "nbformat_minor": 2
}
