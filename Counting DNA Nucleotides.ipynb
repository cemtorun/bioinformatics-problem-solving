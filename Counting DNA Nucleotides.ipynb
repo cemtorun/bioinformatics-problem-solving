{
 "cells": [
  {
   "cell_type": "code",
   "execution_count": 1,
   "metadata": {
    "scrolled": false
   },
   "outputs": [
    {
     "data": {
      "text/plain": [
       "['TATCATCTGACTCCAGCGGCGAAATGAGTTACTCGATAACTATGCGCAGTCAAGTTCGAGGCGTAATTGGTCCAAGGCAAGTGCGCATGGCTATGGAAGGTCCAGACTAACTGGCTGTGAGGAAAGTTGCTTATAACCATAGTTGAGGTATGGTAGATACCGTAACCTGAACAACGCGAGGGAGAGCCACAGTATTGGGGTGGTGCTAGCAACTGTCTGTGCGACTTTTCTGGGAAAATGGAGCCATACTGGTAGTGTGCGACTAAATGGATTCCAAACCCTGTGCGAATCTTAAGGCCGCGCGCCAGTCTGGGTTCCTGACTGGTTCCGAAAGGAGAAGTTTGCGTTAAGTCCTGAACGGCTACTAGCTATTGCTCAACGGCGCTGCTTAACACTTACAGATTCAGTAAAATTTTCCAGCGGTGGTTGATGCTGGTTGATGACCCCTCAGACATTCTACGCGCTCAGTCTACAAGCCTCAGATAAAATGTATCTGGATAGTTTATCTCCGCTCCTCGTCTATAAACAAGCTAGGTGCAATTATGTACTGAAAACCTGAATAGTTCAAACGGACGAACTCTTGTGCTTGCGCTCGGAGCTAAGTCAAAGTCTAACACCATTGACGTCTAATCGTCGTGTAGGCCAATGGAGACAGCGATGCAACCGGATAATTACCGCTTTGCTTTGAACTAAGTCACCCGATCGGCACGGCAAAAAGAGTTTTTCTTGACACATGGGCAAAGGTGGAGGGACACAGTGCAGGGCAGCCGGAGAATCGGGGCCGAGCAATAAGAATGAAAGCACTGGGAATATCGCTATGAGTCTCTAGCGGCGACATCTGATGCCTTCGATCAGCAGTGATTTTAATTTCTGGTTAAAAGCAGCTCGTTTCCGAAATAAGTCTCGCTTGCCATTAACTGCCCA']"
      ]
     },
     "execution_count": 1,
     "metadata": {},
     "output_type": "execute_result"
    }
   ],
   "source": [
    "with open(\"rosalind_dna.txt\") as f:\n",
    "    fragment_of_dna = f.read()\n",
    "\n",
    "fragment_of_dna.rsplit()"
   ]
  },
  {
   "cell_type": "code",
   "execution_count": 2,
   "metadata": {},
   "outputs": [
    {
     "name": "stdout",
     "output_type": "stream",
     "text": [
      "249 205 239 231\n"
     ]
    }
   ],
   "source": [
    "print(fragment_of_dna.count(\"A\"),\n",
    "      fragment_of_dna.count(\"C\"),\n",
    "      fragment_of_dna.count(\"G\"),\n",
    "      fragment_of_dna.count(\"T\"))"
   ]
  }
 ],
 "metadata": {
  "celltoolbar": "Raw Cell Format",
  "kernelspec": {
   "display_name": "Python 3",
   "language": "python",
   "name": "python3"
  },
  "language_info": {
   "codemirror_mode": {
    "name": "ipython",
    "version": 3
   },
   "file_extension": ".py",
   "mimetype": "text/x-python",
   "name": "python",
   "nbconvert_exporter": "python",
   "pygments_lexer": "ipython3",
   "version": "3.6.5"
  }
 },
 "nbformat": 4,
 "nbformat_minor": 2
}
