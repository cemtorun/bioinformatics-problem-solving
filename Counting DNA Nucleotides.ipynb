{
 "cells": [
  {
   "cell_type": "code",
   "execution_count": 12,
   "metadata": {},
   "outputs": [
    {
     "data": {
      "text/plain": [
       "['TATCATCTGACTCCAGCGGCGAAATGAGTTACTCGATAACTATGCGCAGTCAAGTTCGAGGCGTAATTGGTCCAAGGCAAGTGCGCATGGCTATGGAAGGTCCAGACTAACTGGCTGTGAGGAAAGTTGCTTATAACCATAGTTGAGGTATGGTAGATACCGTAACCTGAACAACGCGAGGGAGAGCCACAGTATTGGGGTGGTGCTAGCAACTGTCTGTGCGACTTTTCTGGGAAAATGGAGCCATACTGGTAGTGTGCGACTAAATGGATTCCAAACCCTGTGCGAATCTTAAGGCCGCGCGCCAGTCTGGGTTCCTGACTGGTTCCGAAAGGAGAAGTTTGCGTTAAGTCCTGAACGGCTACTAGCTATTGCTCAACGGCGCTGCTTAACACTTACAGATTCAGTAAAATTTTCCAGCGGTGGTTGATGCTGGTTGATGACCCCTCAGACATTCTACGCGCTCAGTCTACAAGCCTCAGATAAAATGTATCTGGATAGTTTATCTCCGCTCCTCGTCTATAAACAAGCTAGGTGCAATTATGTACTGAAAACCTGAATAGTTCAAACGGACGAACTCTTGTGCTTGCGCTCGGAGCTAAGTCAAAGTCTAACACCATTGACGTCTAATCGTCGTGTAGGCCAATGGAGACAGCGATGCAACCGGATAATTACCGCTTTGCTTTGAACTAAGTCACCCGATCGGCACGGCAAAAAGAGTTTTTCTTGACACATGGGCAAAGGTGGAGGGACACAGTGCAGGGCAGCCGGAGAATCGGGGCCGAGCAATAAGAATGAAAGCACTGGGAATATCGCTATGAGTCTCTAGCGGCGACATCTGATGCCTTCGATCAGCAGTGATTTTAATTTCTGGTTAAAAGCAGCTCGTTTCCGAAATAAGTCTCGCTTGCCATTAACTGCCCA']"
      ]
     },
     "execution_count": 12,
     "metadata": {},
     "output_type": "execute_result"
    }
   ],
   "source": [
    "with open(\"rosalind_dna.txt\") as f:\n",
    "    fragment_of_dna = f.read()\n",
    "\n",
    "fragment_of_dna.rsplit()"
   ]
  },
  {
   "cell_type": "code",
   "execution_count": 13,
   "metadata": {},
   "outputs": [
    {
     "name": "stdout",
     "output_type": "stream",
     "text": [
      "249 205 239 231\n"
     ]
    }
   ],
   "source": [
    "print(fragment_of_dna.count(\"A\"),\n",
    "      fragment_of_dna.count(\"C\"),\n",
    "      fragment_of_dna.count(\"G\"),\n",
    "      fragment_of_dna.count(\"T\"))"
   ]
  },
  {
   "cell_type": "code",
   "execution_count": null,
   "metadata": {},
   "outputs": [],
   "source": []
  }
 ],
 "metadata": {
  "kernelspec": {
   "display_name": "Python 3",
   "language": "python",
   "name": "python3"
  },
  "language_info": {
   "codemirror_mode": {
    "name": "ipython",
    "version": 3
   },
   "file_extension": ".py",
   "mimetype": "text/x-python",
   "name": "python",
   "nbconvert_exporter": "python",
   "pygments_lexer": "ipython3",
   "version": "3.6.5"
  }
 },
 "nbformat": 4,
 "nbformat_minor": 2
}
